{
  "nbformat": 4,
  "nbformat_minor": 0,
  "metadata": {
    "colab": {
      "provenance": []
    },
    "kernelspec": {
      "name": "python3",
      "display_name": "Python 3"
    },
    "language_info": {
      "name": "python"
    }
  },
  "cells": [
    {
      "cell_type": "code",
      "execution_count": 1,
      "metadata": {
        "id": "qC597cbrN6UQ"
      },
      "outputs": [],
      "source": [
        "# fib: int -> int\n",
        "# calcula el n-esimo termino de la suc. de Fibonacci\n",
        "\n",
        "# Ej: fib(6) entrega 8\n",
        "\n",
        "def fib(n):\n",
        "\t#CASO BASE:\n",
        "\tif n <= 2:\n",
        "\t\treturn 1\n",
        "\telse:\n",
        "\t\t# CASO RECURSIVO:\n",
        "\t\treturn fib(n-1)+fib(n-2)\n",
        "\n",
        "assert fib(6) == 8\n"
      ]
    },
    {
      "cell_type": "code",
      "source": [
        "import numpy as np\n",
        "\n",
        "N=40\n",
        "\n",
        "# arreglo de numpy:\n",
        "sec_fib=np.ones(N, dtype=int)\n",
        "\n",
        "#sec_fib[0]=fib(1)\n",
        "#sec_fib[1]=fib(2)\n",
        "#sec_fib[2]=fib(3)\n",
        "#sec_fib[3]=fib(4)\n",
        "#...\n",
        "#sec_fib[49]=fib(50)\n",
        "\n",
        "for i in range(N):\n",
        "  # REUTILZAMOS la función fib que ya habíamos codificado\n",
        "  sec_fib[i] = fib(i+1)\n",
        "\n",
        "print(sec_fib)\n"
      ],
      "metadata": {
        "colab": {
          "base_uri": "https://localhost:8080/"
        },
        "id": "i52LJ8SJOGdH",
        "outputId": "c8de6013-85c2-405a-ebb6-cf0b48200a36"
      },
      "execution_count": 8,
      "outputs": [
        {
          "output_type": "stream",
          "name": "stdout",
          "text": [
            "[        1         1         2         3         5         8        13\n",
            "        21        34        55        89       144       233       377\n",
            "       610       987      1597      2584      4181      6765     10946\n",
            "     17711     28657     46368     75025    121393    196418    317811\n",
            "    514229    832040   1346269   2178309   3524578   5702887   9227465\n",
            "  14930352  24157817  39088169  63245986 102334155]\n"
          ]
        }
      ]
    },
    {
      "cell_type": "code",
      "source": [
        "def fib_n(n):\n",
        "  # Arreglo de numpy de tamaño n, lleno de 1.\n",
        "  sec_fib = np.ones(n, dtype=int)\n",
        "\n",
        "  for i in range(n):\n",
        "    sec_fib[i] = fib(i+1)\n",
        "\n",
        "  print(sec_fib)\n",
        "\n",
        "fib_n(10)\n",
        "fib_n(3)"
      ],
      "metadata": {
        "colab": {
          "base_uri": "https://localhost:8080/"
        },
        "id": "u_B0cTaFTJS7",
        "outputId": "358f0c76-165a-429a-cc0a-781752975f59"
      },
      "execution_count": 10,
      "outputs": [
        {
          "output_type": "stream",
          "name": "stdout",
          "text": [
            "[ 1  1  2  3  5  8 13 21 34 55]\n",
            "[1 1 2]\n"
          ]
        }
      ]
    }
  ]
}